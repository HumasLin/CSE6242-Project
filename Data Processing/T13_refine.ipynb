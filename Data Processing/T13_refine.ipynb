{
 "cells": [
  {
   "cell_type": "code",
   "execution_count": 9,
   "metadata": {},
   "outputs": [],
   "source": [
    "import pandas as pd\n",
    "import math"
   ]
  },
  {
   "cell_type": "code",
   "execution_count": 4,
   "metadata": {},
   "outputs": [],
   "source": [
    "data = pd.read_csv('refined_data1.csv')"
   ]
  },
  {
   "cell_type": "code",
   "execution_count": 25,
   "metadata": {},
   "outputs": [],
   "source": [
    "data['date'] = pd.to_datetime(data['timestamp'], unit='s')"
   ]
  },
  {
   "cell_type": "code",
   "execution_count": 26,
   "metadata": {},
   "outputs": [
    {
     "name": "stdout",
     "output_type": "stream",
     "text": [
      "0        2018-12-14 19:35:12\n",
      "1        2018-11-26 19:14:10\n",
      "2        2018-12-03 18:08:07\n",
      "3        2018-11-28 00:12:22\n",
      "4        2018-12-16 20:30:10\n",
      "                 ...        \n",
      "693066   2018-12-13 23:50:10\n",
      "693067   2018-12-03 08:38:05\n",
      "693068   2018-11-26 20:53:10\n",
      "693069   2018-12-16 18:40:13\n",
      "693070   2018-12-17 15:15:12\n",
      "Name: date, Length: 693071, dtype: datetime64[ns]\n"
     ]
    }
   ],
   "source": [
    "print(data['date'])"
   ]
  },
  {
   "cell_type": "code",
   "execution_count": 28,
   "metadata": {},
   "outputs": [],
   "source": [
    "data['weekday'] = data['date'].dt.day_name()"
   ]
  },
  {
   "cell_type": "code",
   "execution_count": 31,
   "metadata": {},
   "outputs": [],
   "source": [
    "data.to_csv('new_data.csv')"
   ]
  },
  {
   "cell_type": "code",
   "execution_count": 2,
   "metadata": {},
   "outputs": [],
   "source": [
    "data = pd.read_csv('refined_data_v4.csv')"
   ]
  },
  {
   "cell_type": "code",
   "execution_count": 3,
   "metadata": {},
   "outputs": [],
   "source": [
    "data['parameter_round'] = pd.to_numeric(data['parameter'])"
   ]
  },
  {
   "cell_type": "code",
   "execution_count": 6,
   "metadata": {},
   "outputs": [],
   "source": [
    "data['parameter_round'] = data['parameter_round'].round(2)"
   ]
  },
  {
   "cell_type": "code",
   "execution_count": 7,
   "metadata": {},
   "outputs": [
    {
     "name": "stdout",
     "output_type": "stream",
     "text": [
      "0         0.96\n",
      "1         0.96\n",
      "2         1.14\n",
      "3         1.14\n",
      "4         0.96\n",
      "          ... \n",
      "637971    0.99\n",
      "637972    0.99\n",
      "637973    0.99\n",
      "637974    0.89\n",
      "637975    1.09\n",
      "Name: parameter_round, Length: 637976, dtype: float64\n"
     ]
    }
   ],
   "source": [
    "print(data['parameter_round'])"
   ]
  },
  {
   "cell_type": "code",
   "execution_count": 18,
   "metadata": {},
   "outputs": [
    {
     "name": "stderr",
     "output_type": "stream",
     "text": [
      "/Users/yanjinli/miniconda3/lib/python3.7/site-packages/ipykernel_launcher.py:12: SettingWithCopyWarning: \n",
      "A value is trying to be set on a copy of a slice from a DataFrame\n",
      "\n",
      "See the caveats in the documentation: http://pandas.pydata.org/pandas-docs/stable/user_guide/indexing.html#returning-a-view-versus-a-copy\n",
      "  if sys.path[0] == '':\n",
      "/Users/yanjinli/miniconda3/lib/python3.7/site-packages/ipykernel_launcher.py:7: SettingWithCopyWarning: \n",
      "A value is trying to be set on a copy of a slice from a DataFrame\n",
      "\n",
      "See the caveats in the documentation: http://pandas.pydata.org/pandas-docs/stable/user_guide/indexing.html#returning-a-view-versus-a-copy\n",
      "  import sys\n"
     ]
    },
    {
     "name": "stdout",
     "output_type": "stream",
     "text": [
      "0         0.9\n",
      "1         0.9\n",
      "2         1.2\n",
      "3         1.2\n",
      "4         0.9\n",
      "         ... \n",
      "637971    0.9\n",
      "637972    0.9\n",
      "637973    0.9\n",
      "637974    0.8\n",
      "637975    1.1\n",
      "Name: parameter_round, Length: 637976, dtype: float64\n"
     ]
    }
   ],
   "source": [
    "for i in range(len(data['parameter_round'])):\n",
    "    d = data['parameter_round'][i]\n",
    "    if(d > 1):\n",
    "        d = d * 10\n",
    "        d = math.ceil(d)\n",
    "        d = d / 10\n",
    "        data['parameter_round'][i] = d\n",
    "    else:\n",
    "        d = d * 10\n",
    "        d = math.floor(d)\n",
    "        d = d / 10\n",
    "        data['parameter_round'][i] = d\n",
    "print(data['parameter_round'])"
   ]
  },
  {
   "cell_type": "code",
   "execution_count": 19,
   "metadata": {},
   "outputs": [],
   "source": [
    "data.to_csv('refined_data2.csv')"
   ]
  },
  {
   "cell_type": "code",
   "execution_count": null,
   "metadata": {},
   "outputs": [],
   "source": []
  }
 ],
 "metadata": {
  "kernelspec": {
   "display_name": "Python 3",
   "language": "python",
   "name": "python3"
  },
  "language_info": {
   "codemirror_mode": {
    "name": "ipython",
    "version": 3
   },
   "file_extension": ".py",
   "mimetype": "text/x-python",
   "name": "python",
   "nbconvert_exporter": "python",
   "pygments_lexer": "ipython3",
   "version": "3.7.1"
  }
 },
 "nbformat": 4,
 "nbformat_minor": 2
}
